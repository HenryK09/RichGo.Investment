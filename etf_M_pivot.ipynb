import pandas as pd

kospi = pd.read_csv('C:/Users/user/Desktop/practice_data/tiger_kospi200.csv', encoding='cp949', index_col=1)
sp500 = pd.read_csv('C:/Users/user/Desktop/practice_data/tiger_sp500.csv', encoding='cp949', index_col=1)
nikkei225 = pd.read_csv('C:/Users/user/Desktop/practice_data/tiger_nikkei225.csv', encoding='cp949', index_col=1)
csi300 = pd.read_csv('C:/Users/user/Desktop/practice_data/tiger_csi300.csv', encoding='cp949', index_col=1)

kospi.index = pd.to_datetime(kospi.index)
sp500.index = pd.to_datetime(sp500.index)
nikkei225.index = pd.to_datetime(nikkei225.index)
csi300.index = pd.to_datetime(csi300.index)

kospi_pt = pd.pivot_table(kospi, index = 'date',
                          columns = 'asset_name',
                          values = 'price')
sp500_pt = pd.pivot_table(sp500, index = 'date',
                          columns = 'asset_name',
                          values = 'price')
nikkei225_pt = pd.pivot_table(nikkei225, index = 'date',
                              columns = 'asset_name',
                              values = 'price')
csi300_pt = pd.pivot_table(csi300, index = 'date',
                           columns = 'asset_name',
                           values = 'price')

df = pd.merge(kospi_pt, sp500_pt, how='left', on='date')
df = pd.merge(df, nikkei225_pt, how='left', on= 'date')
df = pd.merge(df, csi300_pt, how='left', on='date')

#resample daily data와 비교
# -> resample('M').last() = daily data의 마지막 날짜의 값과 동일
# -> resample('MS').first() = daily data의 첫번째 날짜의 값과 동일

ml_df = df.resample('M').last().copy()
mf_df = df.resample('MS').first().copy()

df = df.reset_index()
df['date'] = pd.to_datetime(df['date'], format='%Y-%m-%d')
df['date'] = df['date'].dt.strftime('%Y-%m-%d')
df = df.set_index('date')

# 월별 마지막 날짜로 이루어진 데이터
ml_df = ml_df.reset_index()
ml_df['date'] = ml_df['date'].dt.strftime('%Y-%m-%d')
# 월별 첫째 날로 이루어진 데이터
mf_df = mf_df.reset_index()
mf_df['date'] = mf_df['date'].dt.strftime('%Y-%m-%d')
# 날짜를 인덱스로 하는 데이터프레임 형성
ml_pt = ml_df.set_index('date')
mf_pt = mf_df.set_index('date')
